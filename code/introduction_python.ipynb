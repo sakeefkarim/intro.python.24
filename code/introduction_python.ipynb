{
  "nbformat": 4,
  "nbformat_minor": 0,
  "metadata": {
    "colab": {
      "provenance": [],
      "toc_visible": true,
      "authorship_tag": "ABX9TyO9UMEEZx63fxMfG9LB4rpr",
      "include_colab_link": true
    },
    "kernelspec": {
      "name": "python3",
      "display_name": "Python 3"
    },
    "language_info": {
      "name": "python"
    }
  },
  "cells": [
    {
      "cell_type": "markdown",
      "metadata": {
        "id": "view-in-github",
        "colab_type": "text"
      },
      "source": [
        "<a href=\"https://colab.research.google.com/github/sakeefkarim/intro.python.24/blob/main/code/introduction_python.ipynb\" target=\"_parent\"><img src=\"https://colab.research.google.com/assets/colab-badge.svg\" alt=\"Open In Colab\"/></a>"
      ]
    },
    {
      "cell_type": "markdown",
      "source": [
        "# An Introduction to `Python` for Social Research\n",
        "\n",
        "[Sakeef M. Karim](https://www.sakeefkarim.com/)\n",
        "\n",
        "sakeef.karim@nyu.edu"
      ],
      "metadata": {
        "id": "zWodD8cHG2RX"
      }
    },
    {
      "cell_type": "markdown",
      "source": [
        "## Preliminaries\n",
        "\n",
        "This notebook is designed to provide an introduction to select libraries in `Python` that are *essential* for data science—inclusive of [`pandas`](https://pandas.pydata.org/) (for data wrangling) and [`seaborn`](https://seaborn.pydata.org/) (for data visualization). More concretely, it will offer some basic code for (i) manipulating tabular data frames; (ii) visualizing descriptive statistics; and (iii) estimating simple regression models. However, this notebook **will not** provide an exhaustive overview of the affordances of `Python` for research in the social and behavioural sciences, nor will it get into the weeds of [`scikit-learn`](https://scikit-learn.org/stable/) or other machine learning libraries that `Python` is known for (fear not: we'll delve into machine learning in a few short months).\n"
      ],
      "metadata": {
        "id": "5Tl8MokU__Y-"
      }
    },
    {
      "cell_type": "markdown",
      "source": [
        "## Loading Libraries\n",
        "\n",
        "To kick things off, let's load our essential libraries."
      ],
      "metadata": {
        "id": "vfFZDpsssER7"
      }
    },
    {
      "cell_type": "code",
      "execution_count": null,
      "metadata": {
        "id": "L2d-NG0H7gwy"
      },
      "outputs": [],
      "source": [
        "# We use canonical naming conventions for our libraries and submodules:\n",
        "\n",
        "import scipy as sp\n",
        "import numpy as np\n",
        "import pandas as pd\n",
        "import matplotlib as mpl\n",
        "import matplotlib.pyplot as plt\n",
        "import seaborn as sns\n",
        "import statsmodels.api as sm\n",
        "\n",
        "from statsmodels.formula.api import ols, logit\n",
        "\n",
        "# An experimental submodule that brings the \"grammar of graphics\" into seaborn:\n",
        "\n",
        "import seaborn.objects as so"
      ]
    },
    {
      "cell_type": "markdown",
      "source": [
        "### Note\n",
        "\n",
        "If you're using [Google Colab](https://colab.google/), you can \"mount\" your Google Drive folders onto a Colab session to save plots, data sets and so on. To programmatically mount your Drive folder(s), run the following lines:"
      ],
      "metadata": {
        "id": "tpFQ218bsF0E"
      }
    },
    {
      "cell_type": "code",
      "source": [
        "from google.colab import drive\n",
        "drive.mount('/drive')"
      ],
      "metadata": {
        "id": "d9VEGgkrsqyu"
      },
      "execution_count": null,
      "outputs": []
    },
    {
      "cell_type": "markdown",
      "source": [
        "# Loading Data\n",
        "\n",
        "To read in different _kinds_ of input data, we will use methods (i.e., functions) from the `pandas` library. For today's session, we will largely work with a dataset that we already encountered during the [<font face=\"Inconsolata\" size=4.5> PopAgingDataViz</font>](https://popagingdataviz.com/) workshop —\n",
        " [gapminder](https://jennybc.github.io/gapminder/).\n",
        "\n",
        "\n",
        "\n",
        "\n"
      ],
      "metadata": {
        "id": "V7pEg6mLtUIE"
      }
    },
    {
      "cell_type": "markdown",
      "source": [
        " ### Note\n",
        "\n",
        " If you're using Jupyter _locally_, you will want to:\n",
        "\n",
        " 1. Clone/download our companion GitHub repository, [`intro.python.24`](https://github.com/sakeefkarim/intro.python.24).\n",
        "\n",
        " 2. _Change your working directory_ (via the command line) so that it points to the `intro.python.24` folder you just cloned/downloaded.\n",
        "\n",
        "\n",
        " To implement Step 2, feel free to un-annotate the code snippet below and run the cell — but please **remember to adjust the code as needed** (i.e., to reflect where `intro.python.24` is located on your machine)."
      ],
      "metadata": {
        "id": "yvz2kdT2V_HV"
      }
    },
    {
      "cell_type": "code",
      "source": [
        "# cd \"THE PATH TO ... /intro.python.24\""
      ],
      "metadata": {
        "id": "rEwpWFQVK26j"
      },
      "execution_count": null,
      "outputs": []
    },
    {
      "cell_type": "markdown",
      "source": [
        "### Excel and CSV Files"
      ],
      "metadata": {
        "id": "T2Re_d8nAh6o"
      }
    },
    {
      "cell_type": "code",
      "source": [
        "# From the companion GitHub repository:\n",
        "\n",
        "gapminder_excel = pd.read_excel(\"https://github.com/sakeefkarim/intro.python.24/raw/main/data/gapminder.xlsx\")\n",
        "\n",
        "gapminder_csv = pd.read_csv(\"https://github.com/sakeefkarim/intro.python.24/raw/main/data/gapminder.csv\")\n",
        "\n",
        "gapminder_excel\n",
        "\n",
        "# If you have the intro.python.24 folder on your machine:\n",
        "\n",
        "# gapminder_excel = pd.read_excel(\"data/gapminder.xlsx\")\n",
        "\n",
        "# gapminder_csv = pd.read_csv(\"data/gapminder.csv\")\n"
      ],
      "metadata": {
        "id": "GRMVTR50_JGk"
      },
      "execution_count": null,
      "outputs": []
    },
    {
      "cell_type": "markdown",
      "source": [
        "### Stata Files"
      ],
      "metadata": {
        "id": "ZvHO4DCeLFWN"
      }
    },
    {
      "cell_type": "code",
      "source": [
        "# From the companion GitHub repository:\n",
        "\n",
        "gapminder_dta = pd.read_stata(\"https://github.com/sakeefkarim/intro.python.24/raw/main/data/gapminder.dta\")\n",
        "\n",
        "# If you have the intro.python.24 folder on your machine:\n",
        "\n",
        "# gapminder_dta = pd.read_stata(\"data/gapminder.dta\")\n"
      ],
      "metadata": {
        "id": "lRzbixbkLLbg"
      },
      "execution_count": null,
      "outputs": []
    },
    {
      "cell_type": "markdown",
      "source": [
        "### SPSS Files"
      ],
      "metadata": {
        "id": "4DcdCrA6LYD2"
      }
    },
    {
      "cell_type": "code",
      "source": [
        "# If you want to read in SPSS files, you may want to launch this notebook locally.\n",
        "\n",
        "# Then, make sure you have pyreadstat installed within your conda environment — say, by running\n",
        "\n",
        "# conda install pyreadstat\n",
        "\n",
        "# In your terminal. You can then run the code below:\n",
        "\n",
        "# gapminder_spss = pd.read_spss(\"data/gapminder.sav\")\n"
      ],
      "metadata": {
        "id": "tLm2Xrl8Lerh"
      },
      "execution_count": null,
      "outputs": []
    },
    {
      "cell_type": "markdown",
      "source": [
        "### R Files"
      ],
      "metadata": {
        "id": "rdsWXCECPwZv"
      }
    },
    {
      "cell_type": "code",
      "source": [
        "# In Google Colab:\n",
        "\n",
        "!pip install pyreadr\n",
        "\n",
        "# Locally, install pyreadr within your conda environment — e.g.,:\n",
        "\n",
        "# conda install pyreadr"
      ],
      "metadata": {
        "id": "nNkNPqB5MM0s"
      },
      "execution_count": null,
      "outputs": []
    },
    {
      "cell_type": "code",
      "source": [
        "# Here, the alias is idiosyncratic (no canonical conventions for pyreadr)\n",
        "\n",
        "import pyreadr as pyr\n",
        "\n",
        "# Loading R files from GitHub\n",
        "\n",
        "rds_url = \"https://github.com/sakeefkarim/intro.python.24/raw/main/data/gapminder.rds\"\n",
        "\n",
        "destination = '/drive/My Drive/Colab/gapminder.rds'\n",
        "\n",
        "pyr.download_file(rds_url, destination)\n",
        "\n",
        "gapminder_r = pyr.read_r(destination)\n",
        "\n",
        "# Checking to see which objects are available:\n",
        "\n",
        "print(gapminder_r.keys())\n",
        "\n",
        "# Only none, ergo:\n",
        "\n",
        "gapminder_rds = gapminder_r[None]\n",
        "\n",
        "# Importing R files locally:\n",
        "\n",
        "# gapminder_r = pyr.read_r(\"data/gapminder.rds\")\n",
        "\n",
        "# gapminder_rds = gapminder_r[None]"
      ],
      "metadata": {
        "id": "0caogqHbQz0q"
      },
      "execution_count": null,
      "outputs": []
    },
    {
      "cell_type": "markdown",
      "source": [
        "# Exploring the Data"
      ],
      "metadata": {
        "id": "5Wlc1Ao-WmRo"
      }
    },
    {
      "cell_type": "markdown",
      "source": [
        "### Basic Code"
      ],
      "metadata": {
        "id": "nhsN60utXU9Z"
      }
    },
    {
      "cell_type": "code",
      "source": [
        "# For simplicity's sake, let's call our data frame of interest \"gapminder\"\n",
        "\n",
        "gapminder = gapminder_excel\n",
        "\n",
        "# Now, we'll use the \"head\" method to get more information\n",
        "\n",
        "gapminder.head()\n",
        "\n",
        "?gapminder.head"
      ],
      "metadata": {
        "id": "bzX5uMfLWvTk"
      },
      "execution_count": null,
      "outputs": []
    },
    {
      "cell_type": "markdown",
      "source": [
        "How can we look at the first **ten** observations in `gapminder`?"
      ],
      "metadata": {
        "id": "MV0mnhtrYKqz"
      }
    },
    {
      "cell_type": "code",
      "source": [
        "# What if we want to take a peak at the last few observations in our dataset?\n",
        "\n",
        "gapminder.tail()"
      ],
      "metadata": {
        "id": "9sjBRl3SYQPp"
      },
      "execution_count": null,
      "outputs": []
    },
    {
      "cell_type": "code",
      "source": [
        "# Dimensions of our data frame:\n",
        "\n",
        "gapminder.shape\n",
        "\n",
        "# List the columns/variables we have at our disposal:\n",
        "\n",
        "gapminder.columns\n",
        "\n",
        "# What *type* of variable is \"continent\"?\n",
        "\n",
        "print(gapminder['continent'].dtype)\n",
        "\n",
        "# Let's look at all the \"dtypes\":\n",
        "\n",
        "gapminder.dtypes"
      ],
      "metadata": {
        "id": "nV1cBtGBYpVl"
      },
      "execution_count": null,
      "outputs": []
    },
    {
      "cell_type": "markdown",
      "source": [
        "### Exploratory Visualizations\n",
        "\n",
        "Here's a very useful way to explore your data via `seaborn`. We'll be returning to `seaborn` at some point this semester."
      ],
      "metadata": {
        "id": "0f9Wg7LTfQYU"
      }
    },
    {
      "cell_type": "code",
      "source": [
        "# This unlocks seaborn's basic 'dark grid' theme:\n",
        "\n",
        "sns.set_theme()\n",
        "\n",
        "# Other seaborn themes: http://seaborn.pydata.org/tutorial/aesthetics.html#seaborn-figure-styles\n",
        "\n",
        "sns.pairplot(gapminder)\n",
        "\n",
        "# The 'hue' parameter (for most seaborn functions) allows analysts to condition on a\n",
        "# variable of interest:\n",
        "\n",
        "sns.pairplot(gapminder, hue = 'continent')"
      ],
      "metadata": {
        "id": "wq8Otq1VfiEa"
      },
      "execution_count": null,
      "outputs": []
    },
    {
      "cell_type": "markdown",
      "source": [
        "# Descriptive Statistics"
      ],
      "metadata": {
        "id": "2QluV5ZUgKPy"
      }
    },
    {
      "cell_type": "code",
      "source": [
        "# Basic Descriptives\n",
        "\n",
        "gapminder.describe()\n",
        "\n",
        "# Include non-numeric variables:\n",
        "\n",
        "gapminder.describe(include='all')\n",
        "\n",
        "# ONLY include non-numeric variables:\n",
        "\n",
        "gapminder.describe(exclude=[np.number])\n",
        "\n",
        "# OR:\n",
        "\n",
        "gapminder.describe(include=['object'])\n",
        "\n",
        "# Calculate frequency of different continents in data set:\n",
        "\n",
        "gapminder['continent'].value_counts(normalize=True)"
      ],
      "metadata": {
        "id": "jou2DLORgjmM"
      },
      "execution_count": null,
      "outputs": []
    },
    {
      "cell_type": "code",
      "source": [
        "# Mean of numeric variables for first 50 rows:\n",
        "\n",
        "gapminder.head(50).mean()\n",
        "\n",
        "# Zeroing-in on numeric variables:\n",
        "\n",
        "gapminder.head(50).mean(numeric_only = True)\n",
        "\n",
        "gapminder.select_dtypes(exclude=['object']).head(50).mean()\n",
        "\n",
        "gapminder.select_dtypes(include=[np.number]).head(50).mean()\n",
        "\n",
        " #We can also store the subsetted dataframe as an object before applying the mean function:\n",
        "\n",
        "gapminder_50 = gapminder.select_dtypes(exclude=['object']).head(50)\n",
        "\n",
        "gapminder_50.mean(numeric_only = True)\n",
        "\n",
        "# Are these statistics informative at all? Hint: they're not! But why?\n",
        "\n",
        "# We'll produce more informative descriptives below — after we've touched on\n",
        "# filtering and reshaping."
      ],
      "metadata": {
        "id": "FTtZOGoGlULL"
      },
      "execution_count": null,
      "outputs": []
    },
    {
      "cell_type": "code",
      "source": [
        "# Group data by continent:\n",
        "\n",
        "gapminder_continent = gapminder.groupby(['continent'])\n",
        "\n",
        "gapminder_continent.mean(numeric_only = True)\n",
        "\n",
        "# Grouped averages for life expectancy:\n",
        "\n",
        "gapminder_continent[['lifeExp']].mean(numeric_only=True)\n",
        "\n",
        "# Grouped averages for life expectancy (descending):\n",
        "\n",
        "gapminder_continent[['lifeExp']].mean().sort_values(by = 'lifeExp', ascending=False)"
      ],
      "metadata": {
        "id": "vRXIjBjYnUAs"
      },
      "execution_count": null,
      "outputs": []
    },
    {
      "cell_type": "markdown",
      "source": [
        "# Filtering Observations, Column Selection"
      ],
      "metadata": {
        "id": "YSmq9lcFmtg3"
      }
    },
    {
      "cell_type": "code",
      "source": [
        "# Select column — life expectancy:\n",
        "\n",
        "gapminder['lifeExp']\n",
        "\n",
        "gapminder.lifeExp\n",
        "\n",
        "gapminder[['lifeExp']]\n",
        "\n",
        "# Selecting three columns: country, life expectancy, continent\n",
        "\n",
        "gapminder[['continent', 'country', 'lifeExp']]\n",
        "\n",
        "# What *kind* of variables are we dealing with?\n",
        "\n",
        "gapminder[['continent', 'country', 'lifeExp']].dtypes"
      ],
      "metadata": {
        "id": "zMBXZ3uqnPnK"
      },
      "execution_count": null,
      "outputs": []
    },
    {
      "cell_type": "code",
      "source": [
        "gapminder_select = gapminder[ gapminder['lifeExp'] >= 80 ]\n",
        "\n",
        "# Dimensions (original data frame)\n",
        "\n",
        "print(gapminder.shape)\n",
        "\n",
        "# Dimensions (subsetted data frame)\n",
        "\n",
        "print(gapminder_select.shape)"
      ],
      "metadata": {
        "id": "RPTVhTiesQz4"
      },
      "execution_count": null,
      "outputs": []
    },
    {
      "cell_type": "code",
      "source": [
        "gapminder_africa = gapminder[ gapminder['continent'] == 'Africa']\n",
        "\n",
        "gapminder_africa.head()\n",
        "\n",
        "gapminder_africa.reset_index(drop=True).head()"
      ],
      "metadata": {
        "id": "VhzdUBN7uqt-"
      },
      "execution_count": null,
      "outputs": []
    },
    {
      "cell_type": "code",
      "source": [
        "# Subsetting rows based on *index label*:\n",
        "\n",
        "gapminder.loc[0:10]\n",
        "\n",
        "# Subsetting rows based on *integer position*:\n",
        "\n",
        "gapminder.iloc[0:10]"
      ],
      "metadata": {
        "id": "KN6lm8YevkgY"
      },
      "execution_count": null,
      "outputs": []
    },
    {
      "cell_type": "code",
      "source": [
        "# First row, first column — pursuant to row/column position\n",
        "\n",
        "gapminder.iloc[0, 0]\n",
        "\n",
        "# Subset data frame based on labels:\n",
        "\n",
        "gapminder.loc[0, 'country']\n",
        "\n",
        "# Produce data frame based on row/column labels:\n",
        "\n",
        "gapminder.loc[[0], ['country']]\n",
        "\n",
        "# Produce data frame based on row/column positions:\n",
        "\n",
        "gapminder.iloc[[0], [0]]"
      ],
      "metadata": {
        "id": "X7C4QrY_ybNh"
      },
      "execution_count": null,
      "outputs": []
    },
    {
      "cell_type": "code",
      "source": [
        "# Last row:\n",
        "\n",
        "gapminder.iloc[-1]\n",
        "\n",
        "# Last column:\n",
        "\n",
        "gapminder.iloc[:, [-1]]\n",
        "\n",
        "# First and sixth rows + second and fourth columns:\n",
        "\n",
        "gapminder.iloc[[0, 5], [1, 3]]"
      ],
      "metadata": {
        "id": "Gk2KwUXT15Up"
      },
      "execution_count": null,
      "outputs": []
    },
    {
      "cell_type": "markdown",
      "source": [
        "# Cleaning (Recoding, New Variables *etc.*)"
      ],
      "metadata": {
        "id": "MFz1BNWA6P4w"
      }
    },
    {
      "cell_type": "code",
      "source": [
        "# Let's zero-in on the latest year in the gapminder data set:\n",
        "\n",
        "gapminder_07 = gapminder.query(\"year == 2007 and continent != 'Oceania'\").reset_index(drop=True)\n",
        "\n",
        "# The year variable's no longer necessary! Let's drop it:\n",
        "\n",
        "gapminder_07.drop(columns='year',\n",
        "                  # The inplace parameter executes the command \"quietly\" — i.e.,\n",
        "                  # no output is displayed and the results do not have to be stored in a\n",
        "                  # new object:\n",
        "                  inplace = True)\n",
        "\n",
        "# Let's rename some columns\n",
        "\n",
        "gapminder_07.rename(columns={# Existing column name : new column name\n",
        "                   'gdpPercap':'gdp_pc',\n",
        "                   'lifeExp':'le'}, inplace=True)\n",
        "\n",
        "# For illustrative purposes, let's generate new variables that take the log of\n",
        "# per capita GDP/population:\n",
        "\n",
        "gapminder_07['ln_gdp'] = np.log(gapminder_07['gdp_pc'])\n",
        "\n",
        "gapminder_07['ln_pop'] = np.log(gapminder_07['pop'])\n",
        "\n",
        "# Discretizing population size and per capita GDP into new quintile measures:\n",
        "\n",
        "gapminder_07['pop_quintile'] = pd.qcut(gapminder_07['pop'], q = 5, labels=False) + 1\n",
        "\n",
        "gapminder_07['gdp_quintile'] = pd.qcut(gapminder_07['gdp_pc'], q = 5, labels=False) + 1\n",
        "\n",
        "# Using quintile measures to create crude binary indicators\n",
        "\n",
        "gapminder_07['size'] = np.where(gapminder_07['pop_quintile'] > 4, 'Large', 'Small or Medium')\n",
        "\n",
        "# gapminder_07['size'] = gapminder_07['size'].map({'Large': 1, 'Small or Medium': 0})\n",
        "\n",
        "gapminder_07['wealth'] = np.where(gapminder_07['gdp_quintile'] > 3, 'Top 2 Quintiles', 'Bottom 3 Quintiles')\n",
        "\n",
        "# Transforming quintile measures into categorical variables\n",
        "\n",
        "gapminder_07[['pop_quintile', 'gdp_quintile']] = gapminder_07[['pop_quintile', 'gdp_quintile']].astype('category')\n"
      ],
      "metadata": {
        "id": "jIvfSULs6r0w"
      },
      "execution_count": null,
      "outputs": []
    },
    {
      "cell_type": "markdown",
      "source": [
        "# Fitting Crude Models\n",
        "\n",
        "These models are, of course, for illustrative purposes—to wit, don't read into the results!"
      ],
      "metadata": {
        "id": "f6PIpnkBBBNm"
      }
    },
    {
      "cell_type": "code",
      "source": [
        "mod_gapminder_1 = ols(\"le ~ ln_pop + ln_gdp + continent\", data=gapminder_07).fit()\n",
        "\n",
        "# Text\n",
        "\n",
        "mod_gapminder_1.summary()\n",
        "\n",
        "# LaTeX Code\n",
        "\n",
        "print(mod_gapminder_1.summary().as_latex())\n",
        "\n",
        "# CSV\n",
        "\n",
        "mod_gapminder_1.summary().as_csv()\n",
        "\n",
        "# Zooming in on parameters\n",
        "\n",
        "print(mod_gapminder_1.summary().tables[1])\n",
        "\n",
        "# Save results as an Excel file\n",
        "\n",
        "mod1_results = mod_gapminder_1.summary().tables[1]\n",
        "\n",
        "pd.DataFrame(mod1_results).to_excel('/drive/My Drive/Colab/mod1_results.xlsx')\n"
      ],
      "metadata": {
        "id": "_fbBQtIxCJGD"
      },
      "execution_count": null,
      "outputs": []
    },
    {
      "cell_type": "code",
      "source": [
        "mod_gapminder_2 = ols(\"le ~ ln_pop + ln_gdp * continent\", data=gapminder_07).fit()\n",
        "\n",
        "# Zooming in on parameters\n",
        "\n",
        "print(mod_gapminder_2.summary().tables[1])"
      ],
      "metadata": {
        "id": "xDTRhADmJXU3"
      },
      "execution_count": null,
      "outputs": []
    },
    {
      "cell_type": "code",
      "source": [
        "gapminder_07['size'] = gapminder_07['size'].map({'Large': 1, 'Small or Medium': 0})\n",
        "\n",
        "\n",
        "mod_gapminder_3 = logit(\"size ~ ln_gdp + le\", data=gapminder_07).fit()\n",
        "\n",
        "\n",
        "print(mod_gapminder_3.summary().tables[1])"
      ],
      "metadata": {
        "id": "Bk8quKzZSe6k"
      },
      "execution_count": null,
      "outputs": []
    },
    {
      "cell_type": "markdown",
      "source": [
        "# Exercises"
      ],
      "metadata": {
        "id": "weRYgmupSjib"
      }
    },
    {
      "cell_type": "markdown",
      "source": [
        "### Work With the `penguins` Data Frame\n",
        "\n",
        "\n",
        "Now, it's your turn to wrangle (or \"pre-process\") data in `Python`. To do so, you'll be working with *another* dataset you encountered during the [<font face=\"Inconsolata\" size=4.5> PopAgingDataViz</font>](https://popagingdataviz.com/) workshop — i.e., the `penguins` data frame from the wonderful [`{palmerpenguins}`](https://allisonhorst.github.io/palmerpenguins/) package.\n",
        "\n",
        "You can find different versions of `penguins` via [`intro.python.24/data`](https://github.com/sakeefkarim/intro.python.24/tree/main/data). For those of you who are new to `Python`, feel free to download some helpful cheat sheets from [`intro.python.24/code/cheat sheets`](https://github.com/sakeefkarim/intro.python.24/tree/main/code/cheat%20sheets).\n",
        "\n"
      ],
      "metadata": {
        "id": "MXQTfOXICStX"
      }
    },
    {
      "cell_type": "markdown",
      "source": [
        "### Tasks\n",
        "\n",
        "1. Load `penguins` into your `Jupyter Notebook`.\n",
        "\n",
        "2. What are the *dimensions* of the `penguins` data frame (e.g., rows and columns)?\n",
        "\n",
        "3. List all the columns in `penguins` and what *kinds* of variables they are.\n",
        "\n",
        "4. Show the first 10 rows in the dataset.\n",
        "\n",
        "5. Show the last 20 rows in the dataset.\n",
        "\n",
        "6. Visualize the relationships between all numeric variables in `penguins` — but make sure these visual summaries vary by the `species` variable.\n",
        "\n",
        "7. Generate basic descriptive statistics for all numeric variables.\n",
        "\n",
        "8. Generate basic descriptive statistics for all discrete variables.\n",
        "\n",
        "9. Isolate the first 35 observations in `penguins` and display the mean values associated with *all numeric variables* (for these 35 observations).\n",
        "\n",
        "10. Show the mean value for `bill_length_mm` at different levels of `species` (more concretely, produce grouped averages for different penguins species). Sort the rows by descending (mean) values of `bill_length_mm`.\n",
        "\n",
        "11. Create a new data frame that:\n",
        "\n",
        "  + Only includes data from the latest `year` in `penguins`.\n",
        "  + Resets the index value for each observation.\n",
        "  + Removes the `year` variable.\n",
        "\n",
        "12. Show the rows corresponding to index values of `0` and `21` in your new data frame.\n",
        "\n",
        "13. Show the 10th and 20th observation in your new data frame.\n",
        "\n",
        "14. Rename at least two of the variables in your new data frame; store the results.\n",
        "\n",
        "15. Using your custom data frame, generate new numeric and discrete variables; once again, store the results.\n",
        "\n",
        "16. Estimate at least two regression models using your custom data frame.\n",
        "\n",
        "17. Export model results as `.xlsx` files.\n",
        "\n",
        "18. Try to reproduce your results (for questions 1-17) using [`reticulate`](https://rstudio.github.io/reticulate/) in `R`."
      ],
      "metadata": {
        "id": "PyGNym0vaxee"
      }
    }
  ]
}