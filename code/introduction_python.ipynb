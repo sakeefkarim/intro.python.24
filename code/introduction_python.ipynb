{
  "nbformat": 4,
  "nbformat_minor": 0,
  "metadata": {
    "colab": {
      "provenance": [],
      "toc_visible": true,
      "authorship_tag": "ABX9TyOUcW3oraimd0NFG1EgMvPF",
      "include_colab_link": true
    },
    "kernelspec": {
      "name": "python3",
      "display_name": "Python 3"
    },
    "language_info": {
      "name": "python"
    }
  },
  "cells": [
    {
      "cell_type": "markdown",
      "metadata": {
        "id": "view-in-github",
        "colab_type": "text"
      },
      "source": [
        "<a href=\"https://colab.research.google.com/github/sakeefkarim/intro.python.24/blob/main/code/introduction_python.ipynb\" target=\"_parent\"><img src=\"https://colab.research.google.com/assets/colab-badge.svg\" alt=\"Open In Colab\"/></a>"
      ]
    },
    {
      "cell_type": "markdown",
      "source": [
        "# An Introduction to `Python` for Social Research\n",
        "\n",
        "[Sakeef M. Karim](https://www.sakeefkarim.com/)\n",
        "\n",
        "sakeef.karim@nyu.edu"
      ],
      "metadata": {
        "id": "zWodD8cHG2RX"
      }
    },
    {
      "cell_type": "markdown",
      "source": [
        "## Preliminaries\n",
        "\n",
        "This notebook is designed to provide an introduction to select libraries in `Python` that are *essential* for data science—inclusive of [`pandas`](https://pandas.pydata.org/) (for data wrangling) and [`seaborn`](https://seaborn.pydata.org/) (for data visualization). More concretely, it will offer some basic code for (i) manipulating tabular data frames; and (ii) visualizing descriptive statistics or other quantities of interest. However, this notebook **will not** provide an exhaustive overview of the affordances of `Python` for research in the social and behavioural sciences, nor will it get into the weeds of [`scikit-learn`](https://scikit-learn.org/stable/) or other machine learning libraries that `Python` is known for (fear not: we'll delve into machine learning in a few short months).\n"
      ],
      "metadata": {
        "id": "5Tl8MokU__Y-"
      }
    },
    {
      "cell_type": "markdown",
      "source": [
        "## Loading Libraries\n",
        "\n",
        "To kick things off, let's load our essential libraries."
      ],
      "metadata": {
        "id": "vfFZDpsssER7"
      }
    },
    {
      "cell_type": "code",
      "execution_count": null,
      "metadata": {
        "id": "L2d-NG0H7gwy"
      },
      "outputs": [],
      "source": [
        "# We use canonical naming conventions for our libraries and submodules:\n",
        "\n",
        "import scipy as sp\n",
        "import pandas as pd\n",
        "import matplotlib as mpl\n",
        "import matplotlib.pyplot as plt\n",
        "import seaborn as sns\n",
        "\n",
        "# An experimental submodule that brings the \"grammar of graphics\" into seaborn:\n",
        "\n",
        "import seaborn.objects as so"
      ]
    },
    {
      "cell_type": "markdown",
      "source": [
        "### Note\n",
        "\n",
        "If you're using [Google Colab](https://colab.google/), you can \"mount\" your Google Drive folders onto a Colab session to save plots, data sets and so on. To programmatically mount your Drive folder(s), run the following lines:"
      ],
      "metadata": {
        "id": "tpFQ218bsF0E"
      }
    },
    {
      "cell_type": "code",
      "source": [
        "from google.colab import drive\n",
        "drive.mount('/drive')"
      ],
      "metadata": {
        "id": "d9VEGgkrsqyu"
      },
      "execution_count": null,
      "outputs": []
    },
    {
      "cell_type": "markdown",
      "source": [
        "# Loading Data\n",
        "\n",
        "To read in different _kinds_ of input data, we will use methods (i.e., functions) from the `pandas` library. For today's session, we will largely work with a dataset that we already encountered during the [<font face=\"Inconsolata\" size=4.5> PopAgingDataViz</font>](https://popagingdataviz.com/) workshop —\n",
        " [gapminder](https://jennybc.github.io/gapminder/).\n",
        "\n",
        "\n",
        " ### Note\n",
        "\n",
        " If you're using Jupyter _locally_, you will want to (i) clone/download our companion GitHub repository, [`intro.python.24`](https://github.com/sakeefkarim/intro.python.24); (ii) _change your working directory_ (via the command line) so that it points to the `intro.python.24` folder you just cloned/downloaded.\n",
        "\n",
        " To implement (ii), feel free to un-annotate the code snippet below and run the cell — but **remember to adjust the code as needed** (depending on where `intro.python.24` is located on your computer).\n",
        "\n",
        "\n",
        "\n"
      ],
      "metadata": {
        "id": "V7pEg6mLtUIE"
      }
    },
    {
      "cell_type": "code",
      "source": [
        "# cd \"THE PATH TO ... /intro.python.24\""
      ],
      "metadata": {
        "id": "rEwpWFQVK26j"
      },
      "execution_count": null,
      "outputs": []
    },
    {
      "cell_type": "markdown",
      "source": [
        "### Excel and CSV Files"
      ],
      "metadata": {
        "id": "T2Re_d8nAh6o"
      }
    },
    {
      "cell_type": "code",
      "source": [
        "# From the companion GitHub repository:\n",
        "\n",
        "gapminder_excel = pd.read_excel(\"https://github.com/sakeefkarim/intro.python.24/raw/main/data/gapminder.xlsx\")\n",
        "\n",
        "gapminder_csv = pd.read_csv(\"https://github.com/sakeefkarim/intro.python.24/raw/main/data/gapminder.csv\")\n",
        "\n",
        "# If you have the intro.python.24 folder on your machine:\n",
        "\n",
        "# gapminder_excel = pd.read_excel(\"data/gapminder.xlsx\")\n",
        "\n",
        "# gapminder_csv = pd.read_csv(\"data/gapminder.csv\")\n"
      ],
      "metadata": {
        "id": "GRMVTR50_JGk"
      },
      "execution_count": null,
      "outputs": []
    },
    {
      "cell_type": "markdown",
      "source": [
        "### Stata Files"
      ],
      "metadata": {
        "id": "ZvHO4DCeLFWN"
      }
    },
    {
      "cell_type": "code",
      "source": [
        "# From the companion GitHub repository:\n",
        "\n",
        "gapminder_dta = pd.read_stata(\"https://github.com/sakeefkarim/intro.python.24/raw/main/data/gapminder.dta\")\n",
        "\n",
        "# If you have the intro.python.24 folder on your machine:\n",
        "\n",
        "# gapminder_dta = pd.read_excel(\"data/gapminder.dta\")\n"
      ],
      "metadata": {
        "id": "lRzbixbkLLbg"
      },
      "execution_count": null,
      "outputs": []
    },
    {
      "cell_type": "markdown",
      "source": [
        "### SPSS Files"
      ],
      "metadata": {
        "id": "4DcdCrA6LYD2"
      }
    },
    {
      "cell_type": "code",
      "source": [
        "# If you want to read in SPSS files, you may want to launch this notebook locally.\n",
        "\n",
        "# Then, make sure you have pyreadstat installed within your conda environment — say, by running\n",
        "\n",
        "# conda install pyreadstat\n",
        "\n",
        "# In your terminal. You can then run the code below:\n",
        "\n",
        "# gapminder_spss = pd.read_spss(\"data/gapminder.sav\")\n"
      ],
      "metadata": {
        "id": "tLm2Xrl8Lerh"
      },
      "execution_count": null,
      "outputs": []
    },
    {
      "cell_type": "markdown",
      "source": [
        "### R Files"
      ],
      "metadata": {
        "id": "rdsWXCECPwZv"
      }
    },
    {
      "cell_type": "code",
      "source": [
        "# In Google Colab:\n",
        "\n",
        "!pip install pyreadr\n",
        "\n",
        "# Locally, install pyreadr within your conda environment — e.g.,:\n",
        "\n",
        "# conda install pyreadr"
      ],
      "metadata": {
        "id": "nNkNPqB5MM0s"
      },
      "execution_count": null,
      "outputs": []
    },
    {
      "cell_type": "code",
      "source": [
        "# Here, the alias is idiosyncratic (no canonical conventions for pyreadr)\n",
        "\n",
        "import pyreadr as pyr\n",
        "\n",
        "# Loading R files from GitHub\n",
        "\n",
        "rds_url = \"https://github.com/sakeefkarim/intro.python.24/raw/main/data/gapminder.rds\"\n",
        "\n",
        "destination = '/drive/My Drive/Colab/gapminder.rds'\n",
        "\n",
        "pyr.download_file(rds_url, destination)\n",
        "\n",
        "gapminder_r = pyr.read_r(destination)\n",
        "\n",
        "# Checking to see which objects are available:\n",
        "\n",
        "print(gapminder_r.keys())\n",
        "\n",
        "# Only none, ergo:\n",
        "\n",
        "gapminder_rds = gapminder_r[None]\n",
        "\n",
        "# Importing R files locally:\n",
        "\n",
        "# gapminder_rds = pyr.read_r(data/gapminder.rds)"
      ],
      "metadata": {
        "id": "0caogqHbQz0q"
      },
      "execution_count": null,
      "outputs": []
    }
  ]
}