{
  "nbformat": 4,
  "nbformat_minor": 0,
  "metadata": {
    "colab": {
      "provenance": [],
      "toc_visible": true,
      "authorship_tag": "ABX9TyMRok1Jng0wAylPazWucf5R",
      "include_colab_link": true
    },
    "kernelspec": {
      "name": "python3",
      "display_name": "Python 3"
    },
    "language_info": {
      "name": "python"
    }
  },
  "cells": [
    {
      "cell_type": "markdown",
      "metadata": {
        "id": "view-in-github",
        "colab_type": "text"
      },
      "source": [
        "<a href=\"https://colab.research.google.com/github/sakeefkarim/intro.python.24/blob/main/code/introduction_python.ipynb\" target=\"_parent\"><img src=\"https://colab.research.google.com/assets/colab-badge.svg\" alt=\"Open In Colab\"/></a>"
      ]
    },
    {
      "cell_type": "markdown",
      "source": [
        "# An Introduction to `Python` for Social Research\n",
        "\n",
        "[Sakeef M. Karim](https://www.sakeefkarim.com/)\n",
        "\n",
        "sakeef.karim@nyu.edu"
      ],
      "metadata": {
        "id": "zWodD8cHG2RX"
      }
    },
    {
      "cell_type": "markdown",
      "source": [
        "## Preliminaries\n",
        "\n",
        "This notebook is designed to provide an introduction to select libraries in `Python` that are *essential* for data science—inclusive of [`pandas`](https://pandas.pydata.org/) (for data wrangling) and [`seaborn`](https://seaborn.pydata.org/) (for data visualization). More concretely, it will offer some basic code for (i) manipulating tabular data frames; (ii) visualizing descriptive statistics; and (iii) estimating simple regression models. However, this notebook **will not** provide an exhaustive overview of the affordances of `Python` for research in the social and behavioural sciences, nor will it get into the weeds of [`scikit-learn`](https://scikit-learn.org/stable/) or other machine learning libraries that `Python` is known for (fear not: we'll delve into machine learning in a few short months).\n"
      ],
      "metadata": {
        "id": "5Tl8MokU__Y-"
      }
    },
    {
      "cell_type": "markdown",
      "source": [
        "## Loading Libraries\n",
        "\n",
        "To kick things off, let's load our essential libraries."
      ],
      "metadata": {
        "id": "vfFZDpsssER7"
      }
    },
    {
      "cell_type": "code",
      "execution_count": 207,
      "metadata": {
        "id": "L2d-NG0H7gwy"
      },
      "outputs": [],
      "source": [
        "# We use canonical naming conventions for our libraries and submodules:\n",
        "\n",
        "import scipy as sp\n",
        "import numpy as np\n",
        "import pandas as pd\n",
        "import matplotlib as mpl\n",
        "import matplotlib.pyplot as plt\n",
        "import seaborn as sns\n",
        "import statsmodels.api as sm\n",
        "\n",
        "from statsmodels.formula.api import ols, logit\n",
        "\n",
        "# An experimental submodule that brings the \"grammar of graphics\" into seaborn:\n",
        "\n",
        "import seaborn.objects as so"
      ]
    },
    {
      "cell_type": "markdown",
      "source": [
        "### Note\n",
        "\n",
        "If you're using [Google Colab](https://colab.google/), you can \"mount\" your Google Drive folders onto a Colab session to save plots, data sets and so on. To programmatically mount your Drive folder(s), run the following lines:"
      ],
      "metadata": {
        "id": "tpFQ218bsF0E"
      }
    },
    {
      "cell_type": "code",
      "source": [
        "from google.colab import drive\n",
        "drive.mount('/drive')"
      ],
      "metadata": {
        "id": "d9VEGgkrsqyu"
      },
      "execution_count": null,
      "outputs": []
    },
    {
      "cell_type": "markdown",
      "source": [
        "# Loading Data\n",
        "\n",
        "To read in different _kinds_ of input data, we will use methods (i.e., functions) from the `pandas` library. For today's session, we will largely work with a dataset that we already encountered during the [<font face=\"Inconsolata\" size=4.5> PopAgingDataViz</font>](https://popagingdataviz.com/) workshop —\n",
        " [gapminder](https://jennybc.github.io/gapminder/).\n",
        "\n",
        "\n",
        "\n",
        "\n"
      ],
      "metadata": {
        "id": "V7pEg6mLtUIE"
      }
    },
    {
      "cell_type": "markdown",
      "source": [
        " ### Note\n",
        "\n",
        " If you're using Jupyter _locally_, you will want to:\n",
        "\n",
        " 1. Clone/download our companion GitHub repository, [`intro.python.24`](https://github.com/sakeefkarim/intro.python.24).\n",
        "\n",
        " 2. _Change your working directory_ (via the command line) so that it points to the `intro.python.24` folder you just cloned/downloaded.\n",
        "\n",
        "\n",
        " To implement Step 2, feel free to un-annotate the code snippet below and run the cell — but please **remember to adjust the code as needed** (i.e., to reflect where `intro.python.24` is located on your machine)."
      ],
      "metadata": {
        "id": "yvz2kdT2V_HV"
      }
    },
    {
      "cell_type": "code",
      "source": [
        "# cd \"THE PATH TO ... /intro.python.24\""
      ],
      "metadata": {
        "id": "rEwpWFQVK26j"
      },
      "execution_count": null,
      "outputs": []
    },
    {
      "cell_type": "markdown",
      "source": [
        "### Excel and CSV Files"
      ],
      "metadata": {
        "id": "T2Re_d8nAh6o"
      }
    },
    {
      "cell_type": "code",
      "source": [
        "# From the companion GitHub repository:\n",
        "\n",
        "gapminder_excel = pd.read_excel(\"https://github.com/sakeefkarim/intro.python.24/raw/main/data/gapminder.xlsx\")\n",
        "\n",
        "gapminder_csv = pd.read_csv(\"https://github.com/sakeefkarim/intro.python.24/raw/main/data/gapminder.csv\")\n",
        "\n",
        "# If you have the intro.python.24 folder on your machine:\n",
        "\n",
        "# gapminder_excel = pd.read_excel(\"data/gapminder.xlsx\")\n",
        "\n",
        "# gapminder_csv = pd.read_csv(\"data/gapminder.csv\")\n"
      ],
      "metadata": {
        "id": "GRMVTR50_JGk"
      },
      "execution_count": null,
      "outputs": []
    },
    {
      "cell_type": "markdown",
      "source": [
        "### Stata Files"
      ],
      "metadata": {
        "id": "ZvHO4DCeLFWN"
      }
    },
    {
      "cell_type": "code",
      "source": [
        "# From the companion GitHub repository:\n",
        "\n",
        "gapminder_dta = pd.read_stata(\"https://github.com/sakeefkarim/intro.python.24/raw/main/data/gapminder.dta\")\n",
        "\n",
        "# If you have the intro.python.24 folder on your machine:\n",
        "\n",
        "# gapminder_dta = pd.read_stata(\"data/gapminder.dta\")\n"
      ],
      "metadata": {
        "id": "lRzbixbkLLbg"
      },
      "execution_count": null,
      "outputs": []
    },
    {
      "cell_type": "markdown",
      "source": [
        "### SPSS Files"
      ],
      "metadata": {
        "id": "4DcdCrA6LYD2"
      }
    },
    {
      "cell_type": "code",
      "source": [
        "# If you want to read in SPSS files, you may want to launch this notebook locally.\n",
        "\n",
        "# Then, make sure you have pyreadstat installed within your conda environment — say, by running\n",
        "\n",
        "# conda install pyreadstat\n",
        "\n",
        "# In your terminal. You can then run the code below:\n",
        "\n",
        "# gapminder_spss = pd.read_spss(\"data/gapminder.sav\")\n"
      ],
      "metadata": {
        "id": "tLm2Xrl8Lerh"
      },
      "execution_count": null,
      "outputs": []
    },
    {
      "cell_type": "markdown",
      "source": [
        "### R Files"
      ],
      "metadata": {
        "id": "rdsWXCECPwZv"
      }
    },
    {
      "cell_type": "code",
      "source": [
        "# In Google Colab:\n",
        "\n",
        "!pip install pyreadr\n",
        "\n",
        "# Locally, install pyreadr within your conda environment — e.g.,:\n",
        "\n",
        "# conda install pyreadr"
      ],
      "metadata": {
        "id": "nNkNPqB5MM0s"
      },
      "execution_count": null,
      "outputs": []
    },
    {
      "cell_type": "code",
      "source": [
        "# Here, the alias is idiosyncratic (no canonical conventions for pyreadr)\n",
        "\n",
        "import pyreadr as pyr\n",
        "\n",
        "# Loading R files from GitHub\n",
        "\n",
        "rds_url = \"https://github.com/sakeefkarim/intro.python.24/raw/main/data/gapminder.rds\"\n",
        "\n",
        "destination = '/drive/My Drive/Colab/gapminder.rds'\n",
        "\n",
        "pyr.download_file(rds_url, destination)\n",
        "\n",
        "gapminder_r = pyr.read_r(destination)\n",
        "\n",
        "# Checking to see which objects are available:\n",
        "\n",
        "print(gapminder_r.keys())\n",
        "\n",
        "# Only none, ergo:\n",
        "\n",
        "gapminder_rds = gapminder_r[None]\n",
        "\n",
        "# Importing R files locally:\n",
        "\n",
        "# gapminder_r = pyr.read_r(data/gapminder.rds)\n",
        "\n",
        "# gapminder_rds = gapminder_r[None]"
      ],
      "metadata": {
        "id": "0caogqHbQz0q"
      },
      "execution_count": null,
      "outputs": []
    },
    {
      "cell_type": "markdown",
      "source": [
        "# Exploring the Data"
      ],
      "metadata": {
        "id": "5Wlc1Ao-WmRo"
      }
    },
    {
      "cell_type": "markdown",
      "source": [
        "### Basic Code"
      ],
      "metadata": {
        "id": "nhsN60utXU9Z"
      }
    },
    {
      "cell_type": "code",
      "source": [
        "# For simplicity's sake, let's call our data frame of interest \"gapminder\"\n",
        "\n",
        "gapminder = gapminder_excel\n",
        "\n",
        "# Now, we'll use the \"head\" method to get more information\n",
        "\n",
        "gapminder.head()\n",
        "\n",
        "#?gapminder.head"
      ],
      "metadata": {
        "id": "bzX5uMfLWvTk"
      },
      "execution_count": null,
      "outputs": []
    },
    {
      "cell_type": "markdown",
      "source": [
        "How can we look at the first **ten** observations in `gapminder`?"
      ],
      "metadata": {
        "id": "MV0mnhtrYKqz"
      }
    },
    {
      "cell_type": "code",
      "source": [
        "# What if we want to take a peak at the last few observations in our dataset?\n",
        "\n",
        "gapminder.tail()"
      ],
      "metadata": {
        "id": "9sjBRl3SYQPp"
      },
      "execution_count": null,
      "outputs": []
    },
    {
      "cell_type": "code",
      "source": [
        "# Dimensions of our data frame:\n",
        "\n",
        "gapminder.shape\n",
        "\n",
        "# List the columns/variables we have at our disposal:\n",
        "\n",
        "gapminder.columns\n",
        "\n",
        "# What *type* of variable is \"continent\"?\n",
        "\n",
        "gapminder['continent'].dtype\n",
        "\n",
        "# Let's look at all the \"dtypes\":\n",
        "\n",
        "gapminder.dtypes"
      ],
      "metadata": {
        "id": "nV1cBtGBYpVl"
      },
      "execution_count": null,
      "outputs": []
    },
    {
      "cell_type": "markdown",
      "source": [
        "### Exploratory Visualizations"
      ],
      "metadata": {
        "id": "0f9Wg7LTfQYU"
      }
    },
    {
      "cell_type": "code",
      "source": [
        "# This unlocks seaborn's basic 'dark grid' theme:\n",
        "\n",
        "sns.set_theme()\n",
        "\n",
        "# Other seaborn themes: http://seaborn.pydata.org/tutorial/aesthetics.html#seaborn-figure-styles\n",
        "\n",
        "sns.pairplot(gapminder)\n",
        "\n",
        "# The 'hue' parameter (for most seaborn functions) allows analysts to condition on a\n",
        "# variable of interest:\n",
        "\n",
        "sns.pairplot(gapminder, hue = 'continent')"
      ],
      "metadata": {
        "id": "wq8Otq1VfiEa"
      },
      "execution_count": null,
      "outputs": []
    },
    {
      "cell_type": "markdown",
      "source": [
        "# Descriptive Statistics"
      ],
      "metadata": {
        "id": "2QluV5ZUgKPy"
      }
    },
    {
      "cell_type": "code",
      "source": [
        "# Basic Descriptives\n",
        "\n",
        "gapminder.describe()\n",
        "\n",
        "# Include non-numeric variables:\n",
        "\n",
        "gapminder.describe(include='all')\n",
        "\n",
        "# ONLY include non-numeric variables:\n",
        "\n",
        "gapminder.describe(exclude=[np.number])\n",
        "\n",
        "# OR:\n",
        "\n",
        "gapminder.describe(include=['object'])\n",
        "\n",
        "# Calculate frequency of different continents in data set:\n",
        "\n",
        "gapminder['continent'].value_counts(normalize=True)"
      ],
      "metadata": {
        "colab": {
          "base_uri": "https://localhost:8080/"
        },
        "id": "jou2DLORgjmM",
        "outputId": "1dd99b98-503d-40d9-9210-7a83fadc0f10"
      },
      "execution_count": 269,
      "outputs": [
        {
          "output_type": "execute_result",
          "data": {
            "text/plain": [
              "size\n",
              "0       112\n",
              "1        28\n",
              "dtype: int64"
            ]
          },
          "metadata": {},
          "execution_count": 269
        }
      ]
    },
    {
      "cell_type": "code",
      "source": [
        "# Mean of numeric variables for first 50 rows:\n",
        "\n",
        "gapminder.head(50).mean()\n",
        "\n",
        "# Zeroing-in on numeric variables:\n",
        "\n",
        "gapminder.head(50).mean(numeric_only = True)\n",
        "\n",
        "gapminder.select_dtypes(exclude=['object']).head(50).mean()\n",
        "\n",
        "gapminder.select_dtypes(include=[np.number]).head(50).mean()\n",
        "\n",
        " #We can also store the subsetted dataframe as an object before applying the mean function:\n",
        "\n",
        "gapminder_50 = gapminder.select_dtypes(exclude=['object']).head(50)\n",
        "\n",
        "gapminder_50.mean()\n",
        "\n",
        "# Are these statistics informative at all? Hint: they're not! But why?\n",
        "\n",
        "# We'll produce more informative descriptives below — after we've touched on\n",
        "# filtering and reshaping."
      ],
      "metadata": {
        "id": "FTtZOGoGlULL"
      },
      "execution_count": null,
      "outputs": []
    },
    {
      "cell_type": "code",
      "source": [
        "# Group data by continent:\n",
        "\n",
        "gapminder_continent = gapminder.groupby(['continent'])\n",
        "\n",
        "gapminder_continent.mean()\n",
        "\n",
        "# Grouped averages for life expectancy:\n",
        "\n",
        "gapminder_continent[['lifeExp']].mean()\n",
        "\n",
        "# Grouped averages for life expectancy (descending):\n",
        "\n",
        "gapminder_continent[['lifeExp']].mean().sort_values(by = 'lifeExp', ascending=False)"
      ],
      "metadata": {
        "id": "vRXIjBjYnUAs"
      },
      "execution_count": null,
      "outputs": []
    },
    {
      "cell_type": "markdown",
      "source": [
        "# Filtering Observations, Column Selection"
      ],
      "metadata": {
        "id": "YSmq9lcFmtg3"
      }
    },
    {
      "cell_type": "code",
      "source": [
        "# Select column — life expectancy:\n",
        "\n",
        "gapminder['lifeExp']\n",
        "\n",
        "gapminder.lifeExp\n",
        "\n",
        "gapminder[['lifeExp']]\n",
        "\n",
        "# Selecting three columns: country, life expectancy, continent\n",
        "\n",
        "gapminder[['continent', 'country', 'lifeExp']]\n",
        "\n",
        "# What *kind* of variables are we dealing with?\n",
        "\n",
        "gapminder.dtypes"
      ],
      "metadata": {
        "id": "zMBXZ3uqnPnK"
      },
      "execution_count": null,
      "outputs": []
    },
    {
      "cell_type": "code",
      "source": [
        "gapminder_select = gapminder[ gapminder['lifeExp'] > 80 ]\n",
        "\n",
        "# Dimensions (original data frame)\n",
        "\n",
        "print(gapminder.shape)\n",
        "\n",
        "# Dimensions (subsetted data frame)\n",
        "\n",
        "print(gapminder_select.shape)"
      ],
      "metadata": {
        "id": "RPTVhTiesQz4"
      },
      "execution_count": null,
      "outputs": []
    },
    {
      "cell_type": "code",
      "source": [
        "gapminder_asia = gapminder[ gapminder['continent'] == 'Asia']\n",
        "\n",
        "gapminder_asia.head()\n",
        "\n",
        "gapminder_asia.reset_index(drop=False).head()"
      ],
      "metadata": {
        "id": "VhzdUBN7uqt-"
      },
      "execution_count": null,
      "outputs": []
    },
    {
      "cell_type": "code",
      "source": [
        "# Subsetting rows based on index *label*:\n",
        "\n",
        "gapminder.loc[0:10]\n",
        "\n",
        "# Subsetting rows based on *integer position*:\n",
        "\n",
        "gapminder.iloc[0:10]"
      ],
      "metadata": {
        "id": "KN6lm8YevkgY"
      },
      "execution_count": null,
      "outputs": []
    },
    {
      "cell_type": "code",
      "source": [
        "# First row, first column — pursuant to row/column position\n",
        "\n",
        "gapminder.iloc[0, 0]\n",
        "\n",
        "# Subset data frame based on labels:\n",
        "\n",
        "gapminder.loc[0, 'country']\n",
        "\n",
        "# Produce data frame based on row/column labels:\n",
        "\n",
        "gapminder.loc[0:, ['country']]\n",
        "\n",
        "# Produce data frame based on row/column positions:\n",
        "\n",
        "gapminder.iloc[0:, [0]]"
      ],
      "metadata": {
        "id": "X7C4QrY_ybNh"
      },
      "execution_count": null,
      "outputs": []
    },
    {
      "cell_type": "code",
      "source": [
        "# Last row:\n",
        "\n",
        "gapminder.iloc[-1]\n",
        "\n",
        "# Last column:\n",
        "\n",
        "gapminder.iloc[:, [-1]]\n",
        "\n",
        "# First and sixth rows + second and fourth columns:\n",
        "\n",
        "gapminder.iloc[[0, 5], [1, 3]]"
      ],
      "metadata": {
        "colab": {
          "base_uri": "https://localhost:8080/",
          "height": 112
        },
        "id": "Gk2KwUXT15Up",
        "outputId": "d4812af0-ad81-43ae-8c53-45145714b4ed"
      },
      "execution_count": 149,
      "outputs": [
        {
          "output_type": "execute_result",
          "data": {
            "text/plain": [
              "  continent  lifeExp\n",
              "0      Asia   28.801\n",
              "5      Asia   38.438"
            ],
            "text/html": [
              "\n",
              "  <div id=\"df-b9ca6473-eff3-415f-be5f-ab811b920a9f\" class=\"colab-df-container\">\n",
              "    <div>\n",
              "<style scoped>\n",
              "    .dataframe tbody tr th:only-of-type {\n",
              "        vertical-align: middle;\n",
              "    }\n",
              "\n",
              "    .dataframe tbody tr th {\n",
              "        vertical-align: top;\n",
              "    }\n",
              "\n",
              "    .dataframe thead th {\n",
              "        text-align: right;\n",
              "    }\n",
              "</style>\n",
              "<table border=\"1\" class=\"dataframe\">\n",
              "  <thead>\n",
              "    <tr style=\"text-align: right;\">\n",
              "      <th></th>\n",
              "      <th>continent</th>\n",
              "      <th>lifeExp</th>\n",
              "    </tr>\n",
              "  </thead>\n",
              "  <tbody>\n",
              "    <tr>\n",
              "      <th>0</th>\n",
              "      <td>Asia</td>\n",
              "      <td>28.801</td>\n",
              "    </tr>\n",
              "    <tr>\n",
              "      <th>5</th>\n",
              "      <td>Asia</td>\n",
              "      <td>38.438</td>\n",
              "    </tr>\n",
              "  </tbody>\n",
              "</table>\n",
              "</div>\n",
              "    <div class=\"colab-df-buttons\">\n",
              "\n",
              "  <div class=\"colab-df-container\">\n",
              "    <button class=\"colab-df-convert\" onclick=\"convertToInteractive('df-b9ca6473-eff3-415f-be5f-ab811b920a9f')\"\n",
              "            title=\"Convert this dataframe to an interactive table.\"\n",
              "            style=\"display:none;\">\n",
              "\n",
              "  <svg xmlns=\"http://www.w3.org/2000/svg\" height=\"24px\" viewBox=\"0 -960 960 960\">\n",
              "    <path d=\"M120-120v-720h720v720H120Zm60-500h600v-160H180v160Zm220 220h160v-160H400v160Zm0 220h160v-160H400v160ZM180-400h160v-160H180v160Zm440 0h160v-160H620v160ZM180-180h160v-160H180v160Zm440 0h160v-160H620v160Z\"/>\n",
              "  </svg>\n",
              "    </button>\n",
              "\n",
              "  <style>\n",
              "    .colab-df-container {\n",
              "      display:flex;\n",
              "      gap: 12px;\n",
              "    }\n",
              "\n",
              "    .colab-df-convert {\n",
              "      background-color: #E8F0FE;\n",
              "      border: none;\n",
              "      border-radius: 50%;\n",
              "      cursor: pointer;\n",
              "      display: none;\n",
              "      fill: #1967D2;\n",
              "      height: 32px;\n",
              "      padding: 0 0 0 0;\n",
              "      width: 32px;\n",
              "    }\n",
              "\n",
              "    .colab-df-convert:hover {\n",
              "      background-color: #E2EBFA;\n",
              "      box-shadow: 0px 1px 2px rgba(60, 64, 67, 0.3), 0px 1px 3px 1px rgba(60, 64, 67, 0.15);\n",
              "      fill: #174EA6;\n",
              "    }\n",
              "\n",
              "    .colab-df-buttons div {\n",
              "      margin-bottom: 4px;\n",
              "    }\n",
              "\n",
              "    [theme=dark] .colab-df-convert {\n",
              "      background-color: #3B4455;\n",
              "      fill: #D2E3FC;\n",
              "    }\n",
              "\n",
              "    [theme=dark] .colab-df-convert:hover {\n",
              "      background-color: #434B5C;\n",
              "      box-shadow: 0px 1px 3px 1px rgba(0, 0, 0, 0.15);\n",
              "      filter: drop-shadow(0px 1px 2px rgba(0, 0, 0, 0.3));\n",
              "      fill: #FFFFFF;\n",
              "    }\n",
              "  </style>\n",
              "\n",
              "    <script>\n",
              "      const buttonEl =\n",
              "        document.querySelector('#df-b9ca6473-eff3-415f-be5f-ab811b920a9f button.colab-df-convert');\n",
              "      buttonEl.style.display =\n",
              "        google.colab.kernel.accessAllowed ? 'block' : 'none';\n",
              "\n",
              "      async function convertToInteractive(key) {\n",
              "        const element = document.querySelector('#df-b9ca6473-eff3-415f-be5f-ab811b920a9f');\n",
              "        const dataTable =\n",
              "          await google.colab.kernel.invokeFunction('convertToInteractive',\n",
              "                                                    [key], {});\n",
              "        if (!dataTable) return;\n",
              "\n",
              "        const docLinkHtml = 'Like what you see? Visit the ' +\n",
              "          '<a target=\"_blank\" href=https://colab.research.google.com/notebooks/data_table.ipynb>data table notebook</a>'\n",
              "          + ' to learn more about interactive tables.';\n",
              "        element.innerHTML = '';\n",
              "        dataTable['output_type'] = 'display_data';\n",
              "        await google.colab.output.renderOutput(dataTable, element);\n",
              "        const docLink = document.createElement('div');\n",
              "        docLink.innerHTML = docLinkHtml;\n",
              "        element.appendChild(docLink);\n",
              "      }\n",
              "    </script>\n",
              "  </div>\n",
              "\n",
              "\n",
              "<div id=\"df-a6358b87-c6a6-4b2f-a6bb-864998c9a045\">\n",
              "  <button class=\"colab-df-quickchart\" onclick=\"quickchart('df-a6358b87-c6a6-4b2f-a6bb-864998c9a045')\"\n",
              "            title=\"Suggest charts\"\n",
              "            style=\"display:none;\">\n",
              "\n",
              "<svg xmlns=\"http://www.w3.org/2000/svg\" height=\"24px\"viewBox=\"0 0 24 24\"\n",
              "     width=\"24px\">\n",
              "    <g>\n",
              "        <path d=\"M19 3H5c-1.1 0-2 .9-2 2v14c0 1.1.9 2 2 2h14c1.1 0 2-.9 2-2V5c0-1.1-.9-2-2-2zM9 17H7v-7h2v7zm4 0h-2V7h2v10zm4 0h-2v-4h2v4z\"/>\n",
              "    </g>\n",
              "</svg>\n",
              "  </button>\n",
              "\n",
              "<style>\n",
              "  .colab-df-quickchart {\n",
              "      --bg-color: #E8F0FE;\n",
              "      --fill-color: #1967D2;\n",
              "      --hover-bg-color: #E2EBFA;\n",
              "      --hover-fill-color: #174EA6;\n",
              "      --disabled-fill-color: #AAA;\n",
              "      --disabled-bg-color: #DDD;\n",
              "  }\n",
              "\n",
              "  [theme=dark] .colab-df-quickchart {\n",
              "      --bg-color: #3B4455;\n",
              "      --fill-color: #D2E3FC;\n",
              "      --hover-bg-color: #434B5C;\n",
              "      --hover-fill-color: #FFFFFF;\n",
              "      --disabled-bg-color: #3B4455;\n",
              "      --disabled-fill-color: #666;\n",
              "  }\n",
              "\n",
              "  .colab-df-quickchart {\n",
              "    background-color: var(--bg-color);\n",
              "    border: none;\n",
              "    border-radius: 50%;\n",
              "    cursor: pointer;\n",
              "    display: none;\n",
              "    fill: var(--fill-color);\n",
              "    height: 32px;\n",
              "    padding: 0;\n",
              "    width: 32px;\n",
              "  }\n",
              "\n",
              "  .colab-df-quickchart:hover {\n",
              "    background-color: var(--hover-bg-color);\n",
              "    box-shadow: 0 1px 2px rgba(60, 64, 67, 0.3), 0 1px 3px 1px rgba(60, 64, 67, 0.15);\n",
              "    fill: var(--button-hover-fill-color);\n",
              "  }\n",
              "\n",
              "  .colab-df-quickchart-complete:disabled,\n",
              "  .colab-df-quickchart-complete:disabled:hover {\n",
              "    background-color: var(--disabled-bg-color);\n",
              "    fill: var(--disabled-fill-color);\n",
              "    box-shadow: none;\n",
              "  }\n",
              "\n",
              "  .colab-df-spinner {\n",
              "    border: 2px solid var(--fill-color);\n",
              "    border-color: transparent;\n",
              "    border-bottom-color: var(--fill-color);\n",
              "    animation:\n",
              "      spin 1s steps(1) infinite;\n",
              "  }\n",
              "\n",
              "  @keyframes spin {\n",
              "    0% {\n",
              "      border-color: transparent;\n",
              "      border-bottom-color: var(--fill-color);\n",
              "      border-left-color: var(--fill-color);\n",
              "    }\n",
              "    20% {\n",
              "      border-color: transparent;\n",
              "      border-left-color: var(--fill-color);\n",
              "      border-top-color: var(--fill-color);\n",
              "    }\n",
              "    30% {\n",
              "      border-color: transparent;\n",
              "      border-left-color: var(--fill-color);\n",
              "      border-top-color: var(--fill-color);\n",
              "      border-right-color: var(--fill-color);\n",
              "    }\n",
              "    40% {\n",
              "      border-color: transparent;\n",
              "      border-right-color: var(--fill-color);\n",
              "      border-top-color: var(--fill-color);\n",
              "    }\n",
              "    60% {\n",
              "      border-color: transparent;\n",
              "      border-right-color: var(--fill-color);\n",
              "    }\n",
              "    80% {\n",
              "      border-color: transparent;\n",
              "      border-right-color: var(--fill-color);\n",
              "      border-bottom-color: var(--fill-color);\n",
              "    }\n",
              "    90% {\n",
              "      border-color: transparent;\n",
              "      border-bottom-color: var(--fill-color);\n",
              "    }\n",
              "  }\n",
              "</style>\n",
              "\n",
              "  <script>\n",
              "    async function quickchart(key) {\n",
              "      const quickchartButtonEl =\n",
              "        document.querySelector('#' + key + ' button');\n",
              "      quickchartButtonEl.disabled = true;  // To prevent multiple clicks.\n",
              "      quickchartButtonEl.classList.add('colab-df-spinner');\n",
              "      try {\n",
              "        const charts = await google.colab.kernel.invokeFunction(\n",
              "            'suggestCharts', [key], {});\n",
              "      } catch (error) {\n",
              "        console.error('Error during call to suggestCharts:', error);\n",
              "      }\n",
              "      quickchartButtonEl.classList.remove('colab-df-spinner');\n",
              "      quickchartButtonEl.classList.add('colab-df-quickchart-complete');\n",
              "    }\n",
              "    (() => {\n",
              "      let quickchartButtonEl =\n",
              "        document.querySelector('#df-a6358b87-c6a6-4b2f-a6bb-864998c9a045 button');\n",
              "      quickchartButtonEl.style.display =\n",
              "        google.colab.kernel.accessAllowed ? 'block' : 'none';\n",
              "    })();\n",
              "  </script>\n",
              "</div>\n",
              "    </div>\n",
              "  </div>\n"
            ]
          },
          "metadata": {},
          "execution_count": 149
        }
      ]
    },
    {
      "cell_type": "markdown",
      "source": [
        "# Cleaning (Recoding, New Variables *etc.*)"
      ],
      "metadata": {
        "id": "MFz1BNWA6P4w"
      }
    },
    {
      "cell_type": "code",
      "source": [
        "# Let's zero-in on the latest year in the gapminder data set:\n",
        "\n",
        "gapminder_07 = gapminder.query(\"year == 2007 and continent != 'Oceania'\").reset_index(drop=True)\n",
        "\n",
        "# The year variable's no longer necessary! Let's drop it:\n",
        "\n",
        "gapminder_07.drop(columns='year',\n",
        "                  # The inplace parameter executes the command \"quietly\" — i.e.,\n",
        "                  # no output is displayed and the results do not have to be stored in a\n",
        "                  # new object:\n",
        "                  inplace = True)\n",
        "\n",
        "# Let's rename some columns\n",
        "\n",
        "gapminder_07.rename(columns={# Existing column name : new column name\n",
        "                   'gdpPercap':'gdp_pc',\n",
        "                   'lifeExp':'le'}, inplace=True)\n",
        "\n",
        "# For illustrative purposes, let's generate new variables that take the log of\n",
        "# per capita GDP/population:\n",
        "\n",
        "gapminder_07['ln_gdp'] = np.log(gapminder_07['gdp_pc'])\n",
        "\n",
        "gapminder_07['ln_pop'] = np.log(gapminder_07['pop'])\n",
        "\n",
        "# Discretizing population size and per capita GDP into new quintile measures:\n",
        "\n",
        "gapminder_07['pop_quintile'] = pd.qcut(gapminder_07['pop'], q = 5, labels=False) + 1\n",
        "\n",
        "gapminder_07['gdp_quintile'] = pd.qcut(gapminder_07['gdp_pc'], q = 5, labels=False) + 1\n",
        "\n",
        "# Using quintile measures to create crude binary indicators\n",
        "\n",
        "gapminder_07['size'] = np.where(gapminder_07['pop_quintile'] > 4, 'Large', 'Small or Medium')\n",
        "\n",
        "# gapminder_07['size'] = gapminder_07['size'].map({'Large': 1, 'Small or Medium': 0})\n",
        "\n",
        "gapminder_07['wealth'] = np.where(gapminder_07['gdp_quintile'] > 3, 'Top 2 Quintiles', 'Bottom 3 Quintiles')\n",
        "\n",
        "# Transforming quintile measures into categorical variables\n",
        "\n",
        "gapminder_07[['pop_quintile', 'gdp_quintile']] = gapminder_07[['pop_quintile', 'gdp_quintile']].astype('category')\n"
      ],
      "metadata": {
        "id": "jIvfSULs6r0w"
      },
      "execution_count": 281,
      "outputs": []
    },
    {
      "cell_type": "markdown",
      "source": [
        "# Fitting Crude Models\n",
        "\n",
        "These models are for illustrative purposes—to wit, please don't read into the results!"
      ],
      "metadata": {
        "id": "f6PIpnkBBBNm"
      }
    },
    {
      "cell_type": "code",
      "source": [
        "mod_gapminder_1 = ols(\"le ~ ln_pop + ln_gdp + continent\", data=gapminder_07).fit()\n",
        "\n",
        "# Text\n",
        "\n",
        "mod_gapminder_1.summary()\n",
        "\n",
        "# LaTeX Code\n",
        "\n",
        "mod_gapminder_1.summary().as_latex()\n",
        "\n",
        "# CSV\n",
        "\n",
        "mod_gapminder_1.summary().as_csv()\n",
        "\n",
        "# Zooming in on parameters\n",
        "\n",
        "print(mod_gapminder_1.summary().tables[1])\n",
        "\n",
        "# Save results as a CSV file\n",
        "\n",
        "mod1_results = mod_gapminder_1.summary().tables[1]\n",
        "\n",
        "pd.DataFrame(mod1_results).to_excel('/drive/My Drive/Colab/mod1_results.xlsx')\n"
      ],
      "metadata": {
        "id": "_fbBQtIxCJGD"
      },
      "execution_count": 227,
      "outputs": []
    },
    {
      "cell_type": "code",
      "source": [
        "mod_gapminder_2 = ols(\"le ~ ln_pop + ln_gdp * continent\", data=gapminder_07).fit()\n",
        "\n",
        "# Zooming in on parameters\n",
        "\n",
        "print(mod_gapminder_2.summary().tables[1])"
      ],
      "metadata": {
        "colab": {
          "base_uri": "https://localhost:8080/"
        },
        "id": "xDTRhADmJXU3",
        "outputId": "2e6c8fb9-68a8-4801-c0c1-8d5b765435aa"
      },
      "execution_count": 252,
      "outputs": [
        {
          "output_type": "stream",
          "name": "stdout",
          "text": [
            "================================================================================================\n",
            "                                   coef    std err          t      P>|t|      [0.025      0.975]\n",
            "------------------------------------------------------------------------------------------------\n",
            "Intercept                       21.4609      9.127      2.351      0.020       3.405      39.516\n",
            "continent[T.Americas]           10.6983     15.932      0.671      0.503     -20.820      42.217\n",
            "continent[T.Asia]                2.4524      9.933      0.247      0.805     -17.196      22.101\n",
            "continent[T.Europe]             12.8151     20.037      0.640      0.524     -26.824      52.454\n",
            "ln_pop                           0.0795      0.366      0.217      0.828      -0.644       0.803\n",
            "ln_gdp                           4.2857      0.835      5.135      0.000       2.635       5.937\n",
            "ln_gdp:continent[T.Americas]     0.1645      1.825      0.090      0.928      -3.445       3.774\n",
            "ln_gdp:continent[T.Asia]         0.9151      1.197      0.764      0.446      -1.454       3.284\n",
            "ln_gdp:continent[T.Europe]      -0.0704      2.078     -0.034      0.973      -4.181       4.040\n",
            "================================================================================================\n"
          ]
        }
      ]
    },
    {
      "cell_type": "code",
      "source": [
        "gapminder_07['size'] = gapminder_07['size'].map({'Large': 1, 'Small or Medium': 0})\n",
        "\n",
        "\n",
        "mod_gapminder_3 = logit(\"size ~ ln_gdp + le\", data=gapminder_07).fit()\n",
        "\n",
        "\n",
        "print(mod_gapminder_3.summary().tables[1])"
      ],
      "metadata": {
        "colab": {
          "base_uri": "https://localhost:8080/"
        },
        "id": "Bk8quKzZSe6k",
        "outputId": "2b17815f-1989-43a1-c9cd-96df48433ff6"
      },
      "execution_count": 297,
      "outputs": [
        {
          "output_type": "stream",
          "name": "stdout",
          "text": [
            "==============================================================================\n",
            "                 coef    std err          z      P>|z|      [0.025      0.975]\n",
            "------------------------------------------------------------------------------\n",
            "Intercept     -2.7163      1.470     -1.848      0.065      -5.598       0.165\n",
            "ln_gdp        -0.2046      0.290     -0.706      0.480      -0.773       0.364\n",
            "le             0.0456      0.035      1.289      0.197      -0.024       0.115\n",
            "==============================================================================\n"
          ]
        }
      ]
    },
    {
      "cell_type": "markdown",
      "source": [
        "# Exercises"
      ],
      "metadata": {
        "id": "weRYgmupSjib"
      }
    }
  ]
}